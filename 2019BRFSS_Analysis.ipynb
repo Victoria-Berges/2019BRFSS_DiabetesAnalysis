{
 "cells": [
  {
   "cell_type": "markdown",
   "id": "3a670f5a",
   "metadata": {},
   "source": [
    "# 2019 BRFSS Data Analysis Sample Project: Risk Factors and Demographic Predictors of Diabetes Diagnosis in U.S. Adults ≥ 18 years\n",
    "\n",
    "## Pre-amble\n",
    "- the preamble or beginning of our code\n",
    "    - this is where we store everything that will be used later on\n",
    "    - this includes modules and functions we will use in our code"
   ]
  },
  {
   "cell_type": "code",
   "execution_count": 204,
   "id": "d189efb8",
   "metadata": {},
   "outputs": [],
   "source": [
    "import pandas as pd\n",
    "import numpy as np\n",
    "import pickle\n",
    "import matplotlib \n",
    "from matplotlib import pyplot as plt\n",
    "import sklearn\n",
    "from sklearn.linear_model import LogisticRegression\n",
    "from sklearn.impute import SimpleImputer\n",
    "import statsmodels.api\n",
    "from statsmodels.stats.outliers_influence import variance_inflation_factor\n",
    "import statsmodels.api as sm\n",
    "from scipy import stats\n",
    "\n",
    "from sklearn import datasets, linear_model"
   ]
  },
  {
   "cell_type": "code",
   "execution_count": 205,
   "id": "458ab48a",
   "metadata": {},
   "outputs": [],
   "source": [
    "#define a function to create cross tab bar plots in matplotlib\n",
    "def crosstab_plots(var,titlexaxis): \n",
    "    \"\"\"creates a cross tab bar plot with outcome variable diabetes diagnosis\"\"\"\n",
    "    pd.crosstab(var,df_vis.DIABETE4).plot(kind=\"bar\")\n",
    "    plt.title(print('Diabetes Diagnosis by',titlexaxis))\n",
    "    plt.xlabel(titlexaxis)\n",
    "    plt.ylabel(\"Number Diagnosed with Diabetes\")\n",
    "    plt.savefig(\"plot\")"
   ]
  },
  {
   "cell_type": "markdown",
   "id": "d8e92535",
   "metadata": {},
   "source": [
    "## Data Import\n",
    "- 2019 BRFSS data is public available on the CDC website at this link address:\n",
    "- we will download the sas transport file available on the CDC website\n",
    "    - this sas file is read very slowly into python so we will find an alternative import method  "
   ]
  },
  {
   "cell_type": "code",
   "execution_count": 206,
   "id": "9cdf51e9",
   "metadata": {},
   "outputs": [],
   "source": [
    "# THIS CODE BLOCK IS OBSOLETE. USE PICKLED VERSION INSTEAD\n",
    "\n",
    "# df = pd.read_sas('C:/Users/victo/Desktop/Coding_Practice/2019BRFSS.XPT') #read sas file\n",
    "# Dump pandas df into pickle file because sas loading is so slow\n",
    "# pickle.dump(df,open('data/2019BRFSS.p','wb'))"
   ]
  },
  {
   "cell_type": "code",
   "execution_count": 207,
   "id": "3710f8ae",
   "metadata": {},
   "outputs": [
    {
     "name": "stdout",
     "output_type": "stream",
     "text": [
      "        _STATE  FMONTH        IDATE IMONTH   IDAY    IYEAR  DISPCODE  \\\n",
      "0          1.0     1.0  b'01182019'  b'01'  b'18'  b'2019'    1100.0   \n",
      "1          1.0     1.0  b'01132019'  b'01'  b'13'  b'2019'    1100.0   \n",
      "2          1.0     1.0  b'01182019'  b'01'  b'18'  b'2019'    1100.0   \n",
      "3          1.0     1.0  b'01182019'  b'01'  b'18'  b'2019'    1200.0   \n",
      "4          1.0     1.0  b'01042019'  b'01'  b'04'  b'2019'    1100.0   \n",
      "...        ...     ...          ...    ...    ...      ...       ...   \n",
      "418263    72.0     9.0  b'03152020'  b'03'  b'15'  b'2020'    1100.0   \n",
      "418264    72.0     9.0  b'03082020'  b'03'  b'08'  b'2020'    1100.0   \n",
      "418265    72.0     9.0  b'03102020'  b'03'  b'10'  b'2020'    1100.0   \n",
      "418266    72.0     9.0  b'03062020'  b'03'  b'06'  b'2020'    1100.0   \n",
      "418267    72.0     9.0  b'03052020'  b'03'  b'05'  b'2020'    1100.0   \n",
      "\n",
      "                SEQNO          _PSU  CTELENM1  ...  _VEGESU1  _FRTLT1A  \\\n",
      "0       b'2019000001'  2.019000e+09       1.0  ...     114.0       1.0   \n",
      "1       b'2019000002'  2.019000e+09       1.0  ...     121.0       1.0   \n",
      "2       b'2019000003'  2.019000e+09       1.0  ...     164.0       1.0   \n",
      "3       b'2019000004'  2.019000e+09       1.0  ...       NaN       9.0   \n",
      "4       b'2019000005'  2.019000e+09       1.0  ...     178.0       1.0   \n",
      "...               ...           ...       ...  ...       ...       ...   \n",
      "418263  b'2019006029'  2.019006e+09       NaN  ...      43.0       1.0   \n",
      "418264  b'2019006030'  2.019006e+09       NaN  ...     142.0       1.0   \n",
      "418265  b'2019006031'  2.019006e+09       NaN  ...      55.0       1.0   \n",
      "418266  b'2019006032'  2.019006e+09       NaN  ...     214.0       1.0   \n",
      "418267  b'2019006033'  2.019006e+09       NaN  ...     229.0       1.0   \n",
      "\n",
      "        _VEGLT1A  _FRT16A  _VEG23A      _FRUITE1      _VEGETE1  _FLSHOT7  \\\n",
      "0            1.0      1.0      1.0  5.397605e-79  5.397605e-79       2.0   \n",
      "1            1.0      1.0      1.0  5.397605e-79  5.397605e-79       1.0   \n",
      "2            1.0      1.0      1.0  5.397605e-79  5.397605e-79       1.0   \n",
      "3            9.0      1.0      1.0  1.000000e+00  1.000000e+00       9.0   \n",
      "4            1.0      1.0      1.0  5.397605e-79  5.397605e-79       2.0   \n",
      "...          ...      ...      ...           ...           ...       ...   \n",
      "418263       2.0      1.0      1.0  5.397605e-79  5.397605e-79       2.0   \n",
      "418264       1.0      1.0      1.0  5.397605e-79  5.397605e-79       NaN   \n",
      "418265       2.0      1.0      1.0  5.397605e-79  5.397605e-79       NaN   \n",
      "418266       1.0      1.0      1.0  5.397605e-79  5.397605e-79       2.0   \n",
      "418267       1.0      1.0      1.0  5.397605e-79  5.397605e-79       NaN   \n",
      "\n",
      "        _PNEUMO3  _AIDTST4  \n",
      "0            1.0       2.0  \n",
      "1            1.0       2.0  \n",
      "2            2.0       2.0  \n",
      "3            9.0       NaN  \n",
      "4            1.0       2.0  \n",
      "...          ...       ...  \n",
      "418263       2.0       2.0  \n",
      "418264       NaN       2.0  \n",
      "418265       NaN       1.0  \n",
      "418266       2.0       2.0  \n",
      "418267       NaN       2.0  \n",
      "\n",
      "[418268 rows x 342 columns]\n"
     ]
    }
   ],
   "source": [
    "df = pickle.load(open('data/2019BRFSS.p','rb')) #reimport pickle file\n",
    "print(df) #see below for output of printing our dataframe "
   ]
  },
  {
   "cell_type": "code",
   "execution_count": 208,
   "id": "8d016d4d",
   "metadata": {},
   "outputs": [
    {
     "name": "stdout",
     "output_type": "stream",
     "text": [
      "<class 'pandas.core.frame.DataFrame'>\n",
      "RangeIndex: 418268 entries, 0 to 418267\n",
      "Columns: 342 entries, _STATE to _AIDTST4\n",
      "dtypes: float64(337), object(5)\n",
      "memory usage: 1.1+ GB\n"
     ]
    }
   ],
   "source": [
    "df.info() #we can look at the file type, number of columns and rows"
   ]
  },
  {
   "attachments": {},
   "cell_type": "markdown",
   "id": "cd5e23be",
   "metadata": {},
   "source": [
    "## Research Question: What factors are predictive of having a diagnosis of diabetes nationally in men and non-pregnant women ≥18 years?\n",
    "\n",
    "### Resources\n",
    "- Full 2019 BRFSS questionnaire can be found at the following link: https://www.cdc.gov/brfss/questionnaires/pdf-ques/2019-BRFSS-Questionnaire-508.pdf\n",
    "- Full 2019 BRFSS codebook can be found at the following link: https://www.cdc.gov/brfss/annual_data/2019/pdf/codebook19_llcp-v2-508.HTML\n",
    "- Known Diabetes Risk factors : https://www.cdc.gov/diabetes/basics/risk-factors.html     "
   ]
  },
  {
   "cell_type": "code",
   "execution_count": 209,
   "id": "f787f929",
   "metadata": {},
   "outputs": [
    {
     "data": {
      "text/plain": [
       "(418268, 342)"
      ]
     },
     "execution_count": 209,
     "metadata": {},
     "output_type": "execute_result"
    }
   ],
   "source": [
    "#A way to inspect only the number of rows and columns in our dataframe\n",
    "df.shape "
   ]
  },
  {
   "cell_type": "markdown",
   "id": "c1d7b4b8",
   "metadata": {},
   "source": [
    "### Define our population: non-pregnant U.S. adults (18 years or older) \n",
    "#### Subset our data by removing anyone under 18 years and anyone who is currently pregnant (pregnancy makes BMI tricky to analyze so we will simplify things for ourselves by simply removing pregnant individuals from the dataset)\n",
    "- Variables we will use: \n",
    "    - \"18 years of age or older?\": LADULT1 1-Yes, 2-No \n",
    "    - \"Currently pregnant?\" PREGNANT 1-Yes, 2-No, 7-Don't know/ Not sure, 9-Refused"
   ]
  },
  {
   "cell_type": "code",
   "execution_count": 210,
   "id": "5d3b301d",
   "metadata": {},
   "outputs": [
    {
     "data": {
      "text/plain": [
       "2.0    70617\n",
       "1.0     2122\n",
       "9.0      201\n",
       "7.0      181\n",
       "Name: PREGNANT, dtype: int64"
      ]
     },
     "execution_count": 210,
     "metadata": {},
     "output_type": "execute_result"
    }
   ],
   "source": [
    "#Check frequency for PREGNANT variable\n",
    "df['PREGNANT'].value_counts() "
   ]
  },
  {
   "cell_type": "code",
   "execution_count": 211,
   "id": "26425de9",
   "metadata": {},
   "outputs": [
    {
     "data": {
      "text/plain": [
       "NaN    268327\n",
       "1.0    149941\n",
       "Name: LADULT1, dtype: int64"
      ]
     },
     "execution_count": 211,
     "metadata": {},
     "output_type": "execute_result"
    }
   ],
   "source": [
    "#Check frequency for LADULT1 variable\n",
    "df['LADULT1'].value_counts(dropna=False) #specify not to drop the na or missing values  \n",
    "#see output - most people leave the question blank\n",
    "    #if the question is answered no then respondents must stop taking the survey \n",
    "    #149,941 respondents say they're adults\n",
    "        #option 1: Keep all the data since you must be 18 years or older as a requirement to take the BRFSS\n",
    "        #option 2: subset by continuous variable AGE"
   ]
  },
  {
   "cell_type": "code",
   "execution_count": 212,
   "id": "976fb2f2",
   "metadata": {},
   "outputs": [
    {
     "name": "stdout",
     "output_type": "stream",
     "text": [
      "False\n"
     ]
    }
   ],
   "source": [
    "#Let's take a look at option 2\n",
    "    #it appears the variable AGE is not included in the dataset \n",
    "if \"AGE\" in df.columns:\n",
    "    print(\"True\")\n",
    "else:\n",
    "    print(\"False\")"
   ]
  },
  {
   "cell_type": "code",
   "execution_count": 213,
   "id": "4e1faccd",
   "metadata": {},
   "outputs": [
    {
     "name": "stdout",
     "output_type": "stream",
     "text": [
      "True\n"
     ]
    }
   ],
   "source": [
    "#The CDC only gives us BRFSS data with age in age categories \n",
    "    #view codebook for more info \n",
    "if \"_AGE_G\" in df.columns:\n",
    "    print(\"True\")\n",
    "else:\n",
    "    print(\"False\")\n",
    "    #thus we will go with option 1 and keep all the data, assuming everyone who took the survey is an adult"
   ]
  },
  {
   "cell_type": "code",
   "execution_count": 214,
   "id": "420d2710",
   "metadata": {},
   "outputs": [
    {
     "data": {
      "text/plain": [
       "NaN    345147\n",
       "2.0     70617\n",
       "9.0       201\n",
       "7.0       181\n",
       "Name: PREGNANT, dtype: int64"
      ]
     },
     "execution_count": 214,
     "metadata": {},
     "output_type": "execute_result"
    }
   ],
   "source": [
    "#subset the data\n",
    "     #include all response of PREGNANT not equal to 1\n",
    "df_pop = df[df.PREGNANT != 1]\n",
    "\n",
    "#check frequency of PREGNANT in new df_pop\n",
    "df_pop[\"PREGNANT\"].value_counts(dropna=False)"
   ]
  },
  {
   "cell_type": "code",
   "execution_count": 215,
   "id": "a5c01627",
   "metadata": {},
   "outputs": [
    {
     "data": {
      "text/plain": [
       "(416146, 342)"
      ]
     },
     "execution_count": 215,
     "metadata": {},
     "output_type": "execute_result"
    }
   ],
   "source": [
    "#check out dataframe to see it has shrunk by the num of pregnant individuals\n",
    "df_pop.shape"
   ]
  },
  {
   "cell_type": "markdown",
   "id": "bd28876c",
   "metadata": {},
   "source": [
    "### Create a binary outcome variable: Diabetes Diagnosis (not including gestational)\n",
    "#### Diabetes diagnosis is our outcome variable and we would like to have yes/ no categories \n",
    "- Question: \"Ever been told you have diabetes?\" \n",
    "    - Variable name: DIABETE4\n",
    "    - Values: 1-Yes, 2-Gestational only, 3-No, 4-Prediabetes or borderline diabetes, 7-Don't know, 9-Refused"
   ]
  },
  {
   "cell_type": "code",
   "execution_count": 216,
   "id": "98b1bf53",
   "metadata": {},
   "outputs": [
    {
     "data": {
      "text/plain": [
       "3.0    345123\n",
       "1.0     57362\n",
       "4.0      9131\n",
       "2.0      3689\n",
       "7.0       601\n",
       "9.0       231\n",
       "NaN         9\n",
       "Name: DIABETE4, dtype: int64"
      ]
     },
     "execution_count": 216,
     "metadata": {},
     "output_type": "execute_result"
    }
   ],
   "source": [
    "df_pop[\"DIABETE4\"].value_counts(dropna=False)"
   ]
  },
  {
   "cell_type": "code",
   "execution_count": 217,
   "id": "7cf8c5f5",
   "metadata": {},
   "outputs": [
    {
     "data": {
      "text/plain": [
       "3.0    345123\n",
       "1.0     57362\n",
       "4.0      9131\n",
       "2.0      3689\n",
       "Name: DIABETE4, dtype: int64"
      ]
     },
     "execution_count": 217,
     "metadata": {},
     "output_type": "execute_result"
    }
   ],
   "source": [
    "#remove don't know and refused values\n",
    "df_outcome=df_pop[(df_pop[\"DIABETE4\"]!=7) & (df_pop[\"DIABETE4\"]!=9)]\n",
    "#remove missing values \n",
    "    #dropna(inplace=True) can also be used instead of assigning df_outcome to df_outcome\n",
    "df_outcome=df_outcome.dropna(subset=[\"DIABETE4\"])\n",
    "#check frequency of DIABETE4\n",
    "df_outcome['DIABETE4'].value_counts(dropna=False)\n"
   ]
  },
  {
   "cell_type": "code",
   "execution_count": 218,
   "id": "52d5fb29",
   "metadata": {},
   "outputs": [
    {
     "data": {
      "text/plain": [
       "(415305, 342)"
      ]
     },
     "execution_count": 218,
     "metadata": {},
     "output_type": "execute_result"
    }
   ],
   "source": [
    "df_outcome.shape"
   ]
  },
  {
   "cell_type": "code",
   "execution_count": 219,
   "id": "20b24929",
   "metadata": {},
   "outputs": [
    {
     "data": {
      "text/plain": [
       "0.0    348812\n",
       "1.0     66493\n",
       "Name: DIABETE4, dtype: int64"
      ]
     },
     "execution_count": 219,
     "metadata": {},
     "output_type": "execute_result"
    }
   ],
   "source": [
    "#assign values 2 and 3 to 0 \n",
    "#assign values 4 to 1 - include prediabetes and borderline diabetes with diabetes diagnosis\n",
    "df_outcome[\"DIABETE4\"].replace({1:1,2:0,3:0,4:1},inplace=True)\n",
    "\n",
    "#check frequency \n",
    "df_outcome[\"DIABETE4\"].value_counts(dropna=False)\n",
    "#great, now we have a binary outcome variable where 1- no diabetes and 2-diabetes/ prediabetes/ borderline diabetes"
   ]
  },
  {
   "cell_type": "markdown",
   "id": "90e96f63",
   "metadata": {},
   "source": [
    "### Data Exploration through Data Visualizations\n",
    "#### We are interested in exploring known risk factors as well as social determinants of health\n",
    "#### We can determine what are good predictors of diabetes diagnosis by using matplotlib to look visually. We will use the function defined in our preamble to do this.\n",
    "##### BMI can be a good predictor of diabetes diagnosis - as BMI class increases so does the number of diabetes diagnoses"
   ]
  },
  {
   "cell_type": "code",
   "execution_count": 220,
   "id": "9a4b80da",
   "metadata": {},
   "outputs": [
    {
     "name": "stdout",
     "output_type": "stream",
     "text": [
      "Diabetes Diagnosis by BMI Class\n"
     ]
    },
    {
     "data": {
      "image/png": "[encoded data removed]",
      "text/plain": [
       "<Figure size 432x288 with 1 Axes>"
      ]
     },
     "metadata": {
      "needs_background": "light"
     },
     "output_type": "display_data"
    }
   ],
   "source": [
    "df_vis=df_outcome \n",
    "#_BMI5CAT 1-Underweight, 2-Normal weight, 3-Overweight, 4-Obese \n",
    "crosstab_plots(df_vis._BMI5CAT,\"BMI Class\")\n"
   ]
  },
  {
   "cell_type": "markdown",
   "id": "9338094e",
   "metadata": {},
   "source": [
    "##### Exercise can be a good predictor of diabetes diagnosis - higher proportion of diabetes diagnoses for those who do not exercise"
   ]
  },
  {
   "cell_type": "code",
   "execution_count": 221,
   "id": "8b1d8d97",
   "metadata": {},
   "outputs": [
    {
     "name": "stdout",
     "output_type": "stream",
     "text": [
      "Diabetes Diagnosis by Exercise\n"
     ]
    },
    {
     "data": {
      "image/png": "[encoded data removed]",
      "text/plain": [
       "<Figure size 432x288 with 1 Axes>"
      ]
     },
     "metadata": {
      "needs_background": "light"
     },
     "output_type": "display_data"
    }
   ],
   "source": [
    "#EXERANY2 1-Yes, 2-No\n",
    "#recode as 1-No, 2-Yes\n",
    "df_vis[\"EXERANY2\"].replace({1:1,2:0},inplace=True)\n",
    "crosstab_plots(df_vis.EXERANY2,\"Exercise\")"
   ]
  },
  {
   "cell_type": "markdown",
   "id": "60f3a791",
   "metadata": {},
   "source": [
    "##### There does not seem to be a lower proportion of diabetes diagnoses among white respondents than respondents who identify as other races, but the relationship is not clear for other racial categories - given more time, this would be interesting to explore but we won't include it in our model today"
   ]
  },
  {
   "cell_type": "code",
   "execution_count": 222,
   "id": "52112c9e",
   "metadata": {},
   "outputs": [
    {
     "name": "stdout",
     "output_type": "stream",
     "text": [
      "Diabetes Diagnosis by Race/ Ethnicity\n"
     ]
    },
    {
     "data": {
      "image/png": "[encoded data removed]",
      "text/plain": [
       "<Figure size 432x288 with 1 Axes>"
      ]
     },
     "metadata": {
      "needs_background": "light"
     },
     "output_type": "display_data"
    }
   ],
   "source": [
    "#_IMPRACE 1-White, 2-Black, 3-Asian, 4-American Indian/ Alaska Native, 5-Hispanic, 6-Other race\n",
    "crosstab_plots(df_vis._IMPRACE,\"Race/ Ethnicity\")"
   ]
  },
  {
   "cell_type": "markdown",
   "id": "854204da",
   "metadata": {},
   "source": [
    "##### Education level can be a good predictor of diabetes diagnosis - college grads have a lot lower proportion of diabetes than do those with a lower educational attainment level"
   ]
  },
  {
   "cell_type": "code",
   "execution_count": 223,
   "id": "40b765b3",
   "metadata": {},
   "outputs": [
    {
     "name": "stdout",
     "output_type": "stream",
     "text": [
      "Diabetes Diagnosis by Education Level\n"
     ]
    },
    {
     "data": {
      "image/png": "[encoded data removed]",
      "text/plain": [
       "<Figure size 432x288 with 1 Axes>"
      ]
     },
     "metadata": {
      "needs_background": "light"
     },
     "output_type": "display_data"
    }
   ],
   "source": [
    "#_EDUCAG 1-not graduated HS, 2-Graduated HS, 3-Attended college or technical school\n",
    "#4-Graduated from college or techincal school\n",
    "crosstab_plots(df_vis._EDUCAG,\"Education Level\")"
   ]
  },
  {
   "cell_type": "markdown",
   "id": "768a2eed",
   "metadata": {},
   "source": [
    "##### Sex at birth can be a good predictor of diabetes diagnosis - higher proportion of diabetes diagnoses among men than women"
   ]
  },
  {
   "cell_type": "code",
   "execution_count": 224,
   "id": "c891d2c4",
   "metadata": {},
   "outputs": [
    {
     "name": "stdout",
     "output_type": "stream",
     "text": [
      "Diabetes Diagnosis by Sex at Birth\n"
     ]
    },
    {
     "data": {
      "image/png": "[encoded data removed]",
      "text/plain": [
       "<Figure size 432x288 with 1 Axes>"
      ]
     },
     "metadata": {
      "needs_background": "light"
     },
     "output_type": "display_data"
    }
   ],
   "source": [
    "#BIRTHSEX 1-Male, 2-Female\n",
    "crosstab_plots(df_vis.BIRTHSEX,\"Sex at Birth\")\n",
    "#Recode 0-Female, 1-Male\n",
    "df_vis[\"BIRTHSEX\"].replace({1:1,2:0},inplace=True)"
   ]
  },
  {
   "cell_type": "markdown",
   "id": "d422bcc1",
   "metadata": {},
   "source": [
    "##### Health plan is not a good predictor of diabetes diagnosis"
   ]
  },
  {
   "cell_type": "code",
   "execution_count": 225,
   "id": "7665d624",
   "metadata": {},
   "outputs": [
    {
     "name": "stdout",
     "output_type": "stream",
     "text": [
      "Diabetes Diagnosis by Insured vs Uninsured\n"
     ]
    },
    {
     "data": {
      "image/png": "[encoded data removed]",
      "text/plain": [
       "<Figure size 432x288 with 1 Axes>"
      ]
     },
     "metadata": {
      "needs_background": "light"
     },
     "output_type": "display_data"
    }
   ],
   "source": [
    "#HLTHPLN1 1-Yes, 2-No\n",
    "crosstab_plots(df_vis.HLTHPLN1,\"Insured vs Uninsured\")"
   ]
  },
  {
   "cell_type": "markdown",
   "id": "88757f46",
   "metadata": {},
   "source": [
    "##### We include food stamps as an indicator of income since one has to make below a certain income to qualify \n",
    "##### Whether someone has food stamps or not can be a good predictor of diabetes diagnosis - those who have food stamps have a higher proportion of diabetes diagnoses"
   ]
  },
  {
   "cell_type": "code",
   "execution_count": 226,
   "id": "1a54f74f",
   "metadata": {},
   "outputs": [
    {
     "name": "stdout",
     "output_type": "stream",
     "text": [
      "Diabetes Diagnosis by Food Stamp Category\n"
     ]
    },
    {
     "data": {
      "image/png": "[encoded data removed]",
      "text/plain": [
       "<Figure size 432x288 with 1 Axes>"
      ]
     },
     "metadata": {
      "needs_background": "light"
     },
     "output_type": "display_data"
    }
   ],
   "source": [
    "#FOODSTMP 1-Yes, 2-No\n",
    "#recode 0-No, 1-Yes\n",
    "df_vis[\"FOODSTMP\"].replace({1:1,2:0},inplace=True)\n",
    "crosstab_plots(df_vis.FOODSTMP,\"Food Stamp Category\")"
   ]
  },
  {
   "cell_type": "markdown",
   "id": "94a21c86",
   "metadata": {},
   "source": [
    "##### Cholesterol can be a good predictor of diabetes diagnosis - those who have high cholesterol also have a higher proportion of diabetes diagnoses"
   ]
  },
  {
   "cell_type": "code",
   "execution_count": 227,
   "id": "4a518abf",
   "metadata": {},
   "outputs": [
    {
     "name": "stdout",
     "output_type": "stream",
     "text": [
      "Diabetes Diagnosis by Ever had High Cholesterol\n"
     ]
    },
    {
     "data": {
      "image/png": "[encoded data removed]",
      "text/plain": [
       "<Figure size 432x288 with 1 Axes>"
      ]
     },
     "metadata": {
      "needs_background": "light"
     },
     "output_type": "display_data"
    }
   ],
   "source": [
    "#_RFCHOL2 1-No, 2-Yes\n",
    "#recode 0-No, 1-Yes\n",
    "df_vis[\"_RFCHOL2\"].replace({1:0,2:1},inplace=True)\n",
    "crosstab_plots(df_vis._RFCHOL2,\"Ever had High Cholesterol\")"
   ]
  },
  {
   "cell_type": "markdown",
   "id": "ee369e66",
   "metadata": {},
   "source": [
    "### Predictor Variables - Data Clean-up"
   ]
  },
  {
   "cell_type": "markdown",
   "id": "10f178e1",
   "metadata": {},
   "source": [
    "#### We're going to use the following variables in our model: _BMI5, EXERANY2, _EDUCAG, BIRTHSEX, FOODSTMP, _RFCHOL2 \n",
    "- Let's remove the 7- Don't Know and 9-Refused for these variables wherever applicable"
   ]
  },
  {
   "cell_type": "code",
   "execution_count": 228,
   "id": "fbf770a4",
   "metadata": {},
   "outputs": [
    {
     "data": {
      "text/plain": [
       "(408617, 342)"
      ]
     },
     "execution_count": 228,
     "metadata": {},
     "output_type": "execute_result"
    }
   ],
   "source": [
    "#we could def a function since we're reiterating this step several times\n",
    "    #but this is only one line of code anyways so creating a function doesn't save us much time \n",
    "\n",
    "#_BMI5 is continuous so not applicable\n",
    "#Remove 7 and 9 responses for EXERANY2\n",
    "df_vis=df_vis[(df_vis[\"EXERANY2\"]!=7) & (df_vis[\"EXERANY2\"]!=9)]\n",
    "df_vis=df_vis[(df_vis[\"BIRTHSEX\"]!=7) & (df_vis[\"BIRTHSEX\"]!=9)]\n",
    "df_vis=df_vis[(df_vis[\"FOODSTMP\"]!=7) & (df_vis[\"FOODSTMP\"]!=9)]\n",
    "df_vis=df_vis[(df_vis[\"BPMEDS\"]!=7) & (df_vis[\"BPMEDS\"]!=9)]\n",
    "\n",
    "#_EDUCAG AND _RFCHOL2 only have 9 response to remove\n",
    "df_vis=df_vis[df_vis[\"_EDUCAG\"]!=9]\n",
    "df_vis=df_vis[df_vis[\"_RFCHOL2\"]!=9]\n",
    "\n",
    "df_vis.shape #we reduced num of rows but column num stayed the same \n",
    "\n",
    "#we can also check to see if this worked by running this cell first and then re-running the above crosstab plots\n",
    "    #doing so, we would expect to no longer see the values 7 and 9 for the variables we selected to include in our model"
   ]
  },
  {
   "cell_type": "markdown",
   "id": "aee3aa7a",
   "metadata": {},
   "source": [
    "### Handle missing values before logistic regression\n",
    "#### We have a few options - we can remove all missing values but if we want to keep most of the data it is not a good option; there exist additional data imputation methods for dealing with missing values before running a regression analyses"
   ]
  },
  {
   "cell_type": "code",
   "execution_count": 229,
   "id": "454156c4",
   "metadata": {},
   "outputs": [
    {
     "data": {
      "text/plain": [
       "(13788, 342)"
      ]
     },
     "execution_count": 229,
     "metadata": {},
     "output_type": "execute_result"
    }
   ],
   "source": [
    "#Let's first try taking out all of the rows with missing values for our predictors\n",
    "df_nona=df_vis.dropna(subset=[\"_BMI5\",\"EXERANY2\",\"_EDUCAG\",\"BIRTHSEX\",\"FOODSTMP\",\"_RFCHOL2\"])\n",
    "df_nona.shape #inspect new row num"
   ]
  },
  {
   "cell_type": "markdown",
   "id": "ce577dd9",
   "metadata": {},
   "source": [
    "#### We still have a more than large enough sample size to run regression analyses without the drawbacks of data imputation"
   ]
  },
  {
   "cell_type": "markdown",
   "id": "aa02596c",
   "metadata": {},
   "source": [
    "### Create Dummy Variables \n",
    "#### For predictor variables with more than 2 categories\n",
    "##### Only educational level has more than 2 categories"
   ]
  },
  {
   "cell_type": "code",
   "execution_count": 230,
   "id": "3da43634",
   "metadata": {},
   "outputs": [
    {
     "data": {
      "text/html": [
       "<div>\n",
       "<style scoped>\n",
       "    .dataframe tbody tr th:only-of-type {\n",
       "        vertical-align: middle;\n",
       "    }\n",
       "\n",
       "    .dataframe tbody tr th {\n",
       "        vertical-align: top;\n",
       "    }\n",
       "\n",
       "    .dataframe thead th {\n",
       "        text-align: right;\n",
       "    }\n",
       "</style>\n",
       "<table border=\"1\" class=\"dataframe\">\n",
       "  <thead>\n",
       "    <tr style=\"text-align: right;\">\n",
       "      <th></th>\n",
       "      <th>EDUC_HSnograd</th>\n",
       "      <th>EDUC_HSgrad</th>\n",
       "      <th>EDUC_Colattend</th>\n",
       "      <th>EDUC_Colgrad</th>\n",
       "    </tr>\n",
       "  </thead>\n",
       "  <tbody>\n",
       "    <tr>\n",
       "      <th>142006</th>\n",
       "      <td>0</td>\n",
       "      <td>0</td>\n",
       "      <td>1</td>\n",
       "      <td>0</td>\n",
       "    </tr>\n",
       "    <tr>\n",
       "      <th>142008</th>\n",
       "      <td>0</td>\n",
       "      <td>0</td>\n",
       "      <td>0</td>\n",
       "      <td>1</td>\n",
       "    </tr>\n",
       "    <tr>\n",
       "      <th>142009</th>\n",
       "      <td>0</td>\n",
       "      <td>0</td>\n",
       "      <td>1</td>\n",
       "      <td>0</td>\n",
       "    </tr>\n",
       "    <tr>\n",
       "      <th>142010</th>\n",
       "      <td>0</td>\n",
       "      <td>0</td>\n",
       "      <td>1</td>\n",
       "      <td>0</td>\n",
       "    </tr>\n",
       "    <tr>\n",
       "      <th>142011</th>\n",
       "      <td>0</td>\n",
       "      <td>0</td>\n",
       "      <td>1</td>\n",
       "      <td>0</td>\n",
       "    </tr>\n",
       "  </tbody>\n",
       "</table>\n",
       "</div>"
      ],
      "text/plain": [
       "        EDUC_HSnograd  EDUC_HSgrad  EDUC_Colattend  EDUC_Colgrad\n",
       "142006              0            0               1             0\n",
       "142008              0            0               0             1\n",
       "142009              0            0               1             0\n",
       "142010              0            0               1             0\n",
       "142011              0            0               1             0"
      ]
     },
     "execution_count": 230,
     "metadata": {},
     "output_type": "execute_result"
    }
   ],
   "source": [
    "#create dummy variable from _EDUCAG\n",
    "dummy=pd.get_dummies(df_nona[\"_EDUCAG\"])\n",
    "#we will name the columns of the new dummy variable\n",
    "dummy=dummy.rename(columns={1.0: \"EDUC_HSnograd\", 2.0: \"EDUC_HSgrad\", 3.0:\"EDUC_Colattend\",4.0:\"EDUC_Colgrad\"})\n",
    "#view \n",
    "dummy.head()"
   ]
  },
  {
   "cell_type": "code",
   "execution_count": 231,
   "id": "a0db28fa",
   "metadata": {},
   "outputs": [
    {
     "name": "stdout",
     "output_type": "stream",
     "text": [
      "        _EDUCAG  EDUC_HSnograd  EDUC_HSgrad  EDUC_Colattend  EDUC_Colgrad\n",
      "142006      3.0              0            0               1             0\n",
      "142008      4.0              0            0               0             1\n",
      "142009      3.0              0            0               1             0\n",
      "142010      3.0              0            0               1             0\n",
      "142011      3.0              0            0               1             0\n"
     ]
    }
   ],
   "source": [
    "#add our dummy variable as columns to our existing data\n",
    "df_dum=pd.concat([df_nona,dummy],axis=1)\n",
    "df_dum.head()\n",
    "\n",
    "#view the first few rows to see if our dummy variables were added correctly \n",
    "print(df_dum.loc[:,[\"_EDUCAG\",\"EDUC_HSnograd\",\"EDUC_HSgrad\",\"EDUC_Colattend\",'EDUC_Colgrad']].head())"
   ]
  },
  {
   "cell_type": "markdown",
   "id": "29a481bd",
   "metadata": {},
   "source": [
    "### Logisitic Regression\n",
    "#### Colinearity Statistics - Test for independence among predictor variables using VIF\n",
    "- we are looking for VIF about equal to or less than 5"
   ]
  },
  {
   "cell_type": "code",
   "execution_count": 232,
   "id": "8cf5ae23",
   "metadata": {},
   "outputs": [
    {
     "name": "stdout",
     "output_type": "stream",
     "text": [
      "    feature       VIF\n",
      "0     _BMI5  9.437700\n",
      "1  EXERANY2  4.580095\n",
      "2  BIRTHSEX  1.932979\n",
      "3  FOODSTMP  1.111818\n",
      "4  _RFCHOL2  1.599334\n",
      "5   _EDUCAG  9.696033\n"
     ]
    }
   ],
   "source": [
    "# VIF dataframe\n",
    "X_VIF= df_dum[[\"_BMI5\",\"EXERANY2\",\"BIRTHSEX\",\"FOODSTMP\",\"_RFCHOL2\",\"_EDUCAG\"]]\n",
    "vif_data = pd.DataFrame()\n",
    "vif_data[\"feature\"] = X_VIF.columns\n",
    "  \n",
    "# calculating VIF for each\n",
    "vif_data[\"VIF\"] = [variance_inflation_factor(X_VIF.values, i)\n",
    "                          for i in range(len(X_VIF.columns))]\n",
    "print(vif_data)"
   ]
  },
  {
   "cell_type": "markdown",
   "id": "16626fc1",
   "metadata": {},
   "source": [
    "#### There seems to be some correlation between BMI and education\n",
    "##### Drop education from the final model and inspect VIF "
   ]
  },
  {
   "cell_type": "code",
   "execution_count": 233,
   "id": "4efa4ed4",
   "metadata": {},
   "outputs": [
    {
     "data": {
      "text/html": [
       "<div>\n",
       "<style scoped>\n",
       "    .dataframe tbody tr th:only-of-type {\n",
       "        vertical-align: middle;\n",
       "    }\n",
       "\n",
       "    .dataframe tbody tr th {\n",
       "        vertical-align: top;\n",
       "    }\n",
       "\n",
       "    .dataframe thead th {\n",
       "        text-align: right;\n",
       "    }\n",
       "</style>\n",
       "<table border=\"1\" class=\"dataframe\">\n",
       "  <thead>\n",
       "    <tr style=\"text-align: right;\">\n",
       "      <th></th>\n",
       "      <th>_BMI5</th>\n",
       "      <th>EXERANY2</th>\n",
       "      <th>BIRTHSEX</th>\n",
       "      <th>FOODSTMP</th>\n",
       "      <th>_RFCHOL2</th>\n",
       "      <th>_EDUCAG</th>\n",
       "    </tr>\n",
       "  </thead>\n",
       "  <tbody>\n",
       "    <tr>\n",
       "      <th>_BMI5</th>\n",
       "      <td>1.000000</td>\n",
       "      <td>-0.139655</td>\n",
       "      <td>0.048452</td>\n",
       "      <td>0.083705</td>\n",
       "      <td>0.113184</td>\n",
       "      <td>-0.085640</td>\n",
       "    </tr>\n",
       "    <tr>\n",
       "      <th>EXERANY2</th>\n",
       "      <td>-0.139655</td>\n",
       "      <td>1.000000</td>\n",
       "      <td>0.017207</td>\n",
       "      <td>-0.110689</td>\n",
       "      <td>-0.061251</td>\n",
       "      <td>0.210735</td>\n",
       "    </tr>\n",
       "    <tr>\n",
       "      <th>BIRTHSEX</th>\n",
       "      <td>0.048452</td>\n",
       "      <td>0.017207</td>\n",
       "      <td>1.000000</td>\n",
       "      <td>-0.074753</td>\n",
       "      <td>0.042604</td>\n",
       "      <td>-0.029309</td>\n",
       "    </tr>\n",
       "    <tr>\n",
       "      <th>FOODSTMP</th>\n",
       "      <td>0.083705</td>\n",
       "      <td>-0.110689</td>\n",
       "      <td>-0.074753</td>\n",
       "      <td>1.000000</td>\n",
       "      <td>0.026923</td>\n",
       "      <td>-0.211102</td>\n",
       "    </tr>\n",
       "    <tr>\n",
       "      <th>_RFCHOL2</th>\n",
       "      <td>0.113184</td>\n",
       "      <td>-0.061251</td>\n",
       "      <td>0.042604</td>\n",
       "      <td>0.026923</td>\n",
       "      <td>1.000000</td>\n",
       "      <td>-0.046683</td>\n",
       "    </tr>\n",
       "    <tr>\n",
       "      <th>_EDUCAG</th>\n",
       "      <td>-0.085640</td>\n",
       "      <td>0.210735</td>\n",
       "      <td>-0.029309</td>\n",
       "      <td>-0.211102</td>\n",
       "      <td>-0.046683</td>\n",
       "      <td>1.000000</td>\n",
       "    </tr>\n",
       "  </tbody>\n",
       "</table>\n",
       "</div>"
      ],
      "text/plain": [
       "             _BMI5  EXERANY2  BIRTHSEX  FOODSTMP  _RFCHOL2   _EDUCAG\n",
       "_BMI5     1.000000 -0.139655  0.048452  0.083705  0.113184 -0.085640\n",
       "EXERANY2 -0.139655  1.000000  0.017207 -0.110689 -0.061251  0.210735\n",
       "BIRTHSEX  0.048452  0.017207  1.000000 -0.074753  0.042604 -0.029309\n",
       "FOODSTMP  0.083705 -0.110689 -0.074753  1.000000  0.026923 -0.211102\n",
       "_RFCHOL2  0.113184 -0.061251  0.042604  0.026923  1.000000 -0.046683\n",
       "_EDUCAG  -0.085640  0.210735 -0.029309 -0.211102 -0.046683  1.000000"
      ]
     },
     "execution_count": 233,
     "metadata": {},
     "output_type": "execute_result"
    }
   ],
   "source": [
    "X_VIF.corr()"
   ]
  },
  {
   "cell_type": "markdown",
   "id": "8e588eaa",
   "metadata": {},
   "source": [
    "#### Dropping education allows for more independence among predictor variables"
   ]
  },
  {
   "cell_type": "code",
   "execution_count": 234,
   "id": "29fb572b",
   "metadata": {},
   "outputs": [
    {
     "name": "stdout",
     "output_type": "stream",
     "text": [
      "    feature       VIF\n",
      "0     _BMI5  5.046511\n",
      "1  EXERANY2  3.700714\n",
      "2  BIRTHSEX  1.930606\n",
      "3  FOODSTMP  1.089326\n",
      "4  _RFCHOL2  1.598933\n"
     ]
    }
   ],
   "source": [
    "# VIF dataframe\n",
    "X_VIF= df_dum[[\"_BMI5\",\"EXERANY2\",\"BIRTHSEX\",\"FOODSTMP\",\"_RFCHOL2\"]]\n",
    "vif_data = pd.DataFrame()\n",
    "vif_data[\"feature\"] = X_VIF.columns\n",
    "  \n",
    "# calculating VIF for each\n",
    "vif_data[\"VIF\"] = [variance_inflation_factor(X_VIF.values, i)\n",
    "                          for i in range(len(X_VIF.columns))]\n",
    "print(vif_data)"
   ]
  },
  {
   "cell_type": "code",
   "execution_count": 235,
   "id": "70956198",
   "metadata": {
    "scrolled": true
   },
   "outputs": [
    {
     "data": {
      "text/plain": [
       "(13788, 5)"
      ]
     },
     "execution_count": 235,
     "metadata": {},
     "output_type": "execute_result"
    }
   ],
   "source": [
    "#create a df, X, with only predictors variables we're keeping\n",
    "X= df_dum[[\"_BMI5\",\"EXERANY2\",\"BIRTHSEX\",\"FOODSTMP\",\"_RFCHOL2\"]]\n",
    "\n",
    "X.shape"
   ]
  },
  {
   "cell_type": "code",
   "execution_count": 236,
   "id": "674703c1",
   "metadata": {},
   "outputs": [],
   "source": [
    "#create a df, Y, with only outcome variable\n",
    "y= df_dum[[\"DIABETE4\"]]"
   ]
  },
  {
   "cell_type": "markdown",
   "id": "3141cecd",
   "metadata": {},
   "source": [
    "#### Logisitic Regression summary results"
   ]
  },
  {
   "cell_type": "code",
   "execution_count": 237,
   "id": "9097240d",
   "metadata": {},
   "outputs": [
    {
     "name": "stdout",
     "output_type": "stream",
     "text": [
      "Optimization terminated successfully.\n",
      "         Current function value: 0.421304\n",
      "         Iterations 6\n",
      "                           Logit Regression Results                           \n",
      "==============================================================================\n",
      "Dep. Variable:               DIABETE4   No. Observations:                13788\n",
      "Model:                          Logit   Df Residuals:                    13783\n",
      "Method:                           MLE   Df Model:                            4\n",
      "Date:                Fri, 18 Jun 2021   Pseudo R-squ.:                0.002075\n",
      "Time:                        17:19:42   Log-Likelihood:                -5808.9\n",
      "converged:                       True   LL-Null:                       -5821.0\n",
      "Covariance Type:            nonrobust   LLR p-value:                 7.409e-05\n",
      "==============================================================================\n",
      "                 coef    std err          z      P>|z|      [0.025      0.975]\n",
      "------------------------------------------------------------------------------\n",
      "_BMI5         -0.0004    1.7e-05    -24.195      0.000      -0.000      -0.000\n",
      "EXERANY2      -1.1428      0.046    -24.665      0.000      -1.234      -1.052\n",
      "BIRTHSEX      -0.0606      0.047     -1.284      0.199      -0.153       0.032\n",
      "FOODSTMP       0.4481      0.087      5.158      0.000       0.278       0.618\n",
      "_RFCHOL2       0.9337      0.048     19.572      0.000       0.840       1.027\n",
      "==============================================================================\n"
     ]
    }
   ],
   "source": [
    "#Logistic regression summary with all of our variables\n",
    "mod = sm.Logit(y, X).fit()\n",
    "print(mod.summary())"
   ]
  },
  {
   "cell_type": "markdown",
   "id": "d706ca80",
   "metadata": {},
   "source": [
    "##### Odds ratios\n",
    "###### BMI has an odds ratio of ~1 which represents no change in prediction of diabetes as BMI increases"
   ]
  },
  {
   "cell_type": "code",
   "execution_count": 238,
   "id": "88a62f5f",
   "metadata": {},
   "outputs": [
    {
     "data": {
      "text/plain": [
       "array([0.99958942, 0.31892983, 0.94119345, 1.56534247, 2.54389824])"
      ]
     },
     "execution_count": 238,
     "metadata": {},
     "output_type": "execute_result"
    }
   ],
   "source": [
    "np.exp(mod.params.values)#must exponentiate coefficients to get log odds ratios"
   ]
  },
  {
   "cell_type": "markdown",
   "id": "8a128cf9",
   "metadata": {},
   "source": [
    "##### P-values\n",
    "##### All are statistically significant predictors except for Sex at birth"
   ]
  },
  {
   "cell_type": "code",
   "execution_count": 239,
   "id": "f0494715",
   "metadata": {},
   "outputs": [
    {
     "data": {
      "text/plain": [
       "_BMI5       2.493016e-129\n",
       "EXERANY2    2.566854e-134\n",
       "BIRTHSEX     1.990908e-01\n",
       "FOODSTMP     2.498804e-07\n",
       "_RFCHOL2     2.674852e-85\n",
       "dtype: float64"
      ]
     },
     "execution_count": 239,
     "metadata": {},
     "output_type": "execute_result"
    }
   ],
   "source": [
    "#take a closer look at P-values since they are very small\n",
    "mod.pvalues"
   ]
  },
  {
   "cell_type": "markdown",
   "id": "7a91603c",
   "metadata": {},
   "source": [
    "##### BMI is HIGHLY correlated"
   ]
  },
  {
   "cell_type": "code",
   "execution_count": 240,
   "id": "5409fc2f",
   "metadata": {},
   "outputs": [
    {
     "name": "stdout",
     "output_type": "stream",
     "text": [
      "Optimization terminated successfully.\n",
      "         Current function value: 0.459403\n",
      "         Iterations 5\n",
      "                           Logit Regression Results                           \n",
      "==============================================================================\n",
      "Dep. Variable:               DIABETE4   No. Observations:                13788\n",
      "Model:                          Logit   Df Residuals:                    13787\n",
      "Method:                           MLE   Df Model:                            0\n",
      "Date:                Fri, 18 Jun 2021   Pseudo R-squ.:                -0.08817\n",
      "Time:                        17:19:42   Log-Likelihood:                -6334.3\n",
      "converged:                       True   LL-Null:                       -5821.0\n",
      "Covariance Type:            nonrobust   LLR p-value:                       nan\n",
      "==============================================================================\n",
      "                 coef    std err          z      P>|z|      [0.025      0.975]\n",
      "------------------------------------------------------------------------------\n",
      "_BMI5         -0.0006   8.07e-06    -68.201      0.000      -0.001      -0.001\n",
      "==============================================================================\n"
     ]
    }
   ],
   "source": [
    "#Try running logistic regression on BMI only \n",
    "mod_BMI = sm.Logit(y, X[\"_BMI5\"]).fit()\n",
    "print(mod_BMI.summary())"
   ]
  },
  {
   "attachments": {},
   "cell_type": "markdown",
   "id": "e8bf0215",
   "metadata": {},
   "source": [
    "### Summary Results\n",
    "#### lack of physical activity, being on foodstamps, and having high cholesterol are predictive of having a diagnosis of diabetes nationally in men and non-pregnant women ≥18 years. \n",
    "\n",
    "#### Limitations\n",
    "- self reported survey data \n",
    "- Two- or three-way interactions were not tested for \n",
    "- The direction of causality cannot be ascertained from this data\n",
    "- We cannot establish causality on these effects alone\n"
   ]
  }
 ],
 "metadata": {
  "kernelspec": {
   "display_name": "Python 3",
   "language": "python",
   "name": "python3"
  },
  "language_info": {
   "codemirror_mode": {
    "name": "ipython",
    "version": 3
   },
   "file_extension": ".py",
   "mimetype": "text/x-python",
   "name": "python",
   "nbconvert_exporter": "python",
   "pygments_lexer": "ipython3",
   "version": "3.9.5"
  }
 },
 "nbformat": 4,
 "nbformat_minor": 5
}
